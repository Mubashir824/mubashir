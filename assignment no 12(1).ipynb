{
 "cells": [
  {
   "cell_type": "code",
   "execution_count": 3,
   "metadata": {},
   "outputs": [
    {
     "name": "stdout",
     "output_type": "stream",
     "text": [
      "{'qu': 'Qno1)What is the Capital of pakistan', 'op': ['a)Islamabad', 'b)karachi', 'c) balochistand) Lahore']}a\n",
      "\n",
      " correct answer: \n",
      "{'Q2': 'Qno2)The first mechanical computer designed by charles babbage was called', 'op': ['a)Calculator', 'b)analytical ingine', 'c) Abacusd) processor']}b\n",
      "\n",
      " correct answer: \n",
      "{'Q3': 'www stand for?', 'op': ['a)Wan wide world', 'b)world wide wed', 'c) World Wan wed d) white']}b\n",
      "\n",
      " correct answer: \n",
      "{'Q4': 'which theory is known as Eistein theory ?', 'op': ['a)evolution theory', 'b)Big bang theory', 'c) Theory of relativily', \"d) newton's theory\"]}c\n",
      "\n",
      " correct answer: \n",
      "{'Q5': 'Which of this number is not even?', 'op': ['a)2', 'b)6', 'c) 9d) 12']}c\n",
      "\n",
      " correct answer: \n"
     ]
    }
   ],
   "source": [
    "Quiz = [\n",
    "    {\n",
    "        \"qu\": \"Qno1)What is the Capital of pakistan\",\n",
    "         \"op\": [\"a)Islamabad\"  , \"b)karachi\", \"c) balochistan\"  \"d) Lahore\"  ], \n",
    "    },   \n",
    "    {\n",
    "         \"Q2\": \"Qno2)The first mechanical computer designed by charles babbage was called\", \n",
    "        \"op\":[\"a)Calculator\" , \"b)analytical ingine\", \"c) Abacus\"  \"d) processor\"],        \n",
    "    },\n",
    "    { \n",
    "        \"Q3\": \"www stand for?\",\n",
    "        \"op\":[\"a)Wan wide world\" , \"b)world wide wed\", \"c) World Wan wed \"  \"d) white\"], \n",
    "    }, \n",
    "    { \n",
    "        \"Q4\": \"which theory is known as Eistein theory ?\",\n",
    "        \"op\":[\"a)evolution theory\" , \"b)Big bang theory\",  \"c) Theory of relativily\", \"d) newton's theory\"], \n",
    "    }, \n",
    "    { \n",
    "        \"Q5\": \"Which of this number is not even?\",\n",
    "        \"op\":[\"a)2\" , \"b)6\", \"c) 9\"  \"d) 12\"], \n",
    "    }, \n",
    "]\n",
    "ans = [\"a\" , \"b\" ,\"b\" ,\"c\", \"c\"]\n",
    "i=0\n",
    "\n",
    "for question in Quiz:\n",
    "    answer = input(question)\n",
    "    \n",
    "    if answer ==ans[i]:\n",
    "        i = i+1\n",
    "        print(\"\\n correct answer: \")\n",
    "    else:    \n",
    "        print(\"\\n wrong answer\")\n",
    "\n"
   ]
  },
  {
   "cell_type": "code",
   "execution_count": null,
   "metadata": {},
   "outputs": [],
   "source": []
  },
  {
   "cell_type": "code",
   "execution_count": null,
   "metadata": {},
   "outputs": [],
   "source": []
  },
  {
   "cell_type": "code",
   "execution_count": null,
   "metadata": {},
   "outputs": [],
   "source": []
  }
 ],
 "metadata": {
  "kernelspec": {
   "display_name": "Python 3",
   "language": "python",
   "name": "python3"
  },
  "language_info": {
   "codemirror_mode": {
    "name": "ipython",
    "version": 3
   },
   "file_extension": ".py",
   "mimetype": "text/x-python",
   "name": "python",
   "nbconvert_exporter": "python",
   "pygments_lexer": "ipython3",
   "version": "3.7.6"
  }
 },
 "nbformat": 4,
 "nbformat_minor": 4
}
